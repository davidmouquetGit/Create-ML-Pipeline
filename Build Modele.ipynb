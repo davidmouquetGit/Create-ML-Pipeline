{
 "cells": [
  {
   "cell_type": "markdown",
   "id": "444aebe7-423d-467b-9efe-56b2579e7957",
   "metadata": {},
   "source": [
    "# Lecture des données"
   ]
  },
  {
   "cell_type": "code",
   "execution_count": 18,
   "id": "0c92547c-cd55-4278-98fe-ef3aca9e8c8c",
   "metadata": {},
   "outputs": [],
   "source": [
    "import pandas as pd\n",
    "\n",
    "data = pd.read_csv(\"data/dktcc.csv\",sep=\";\",decimal=\",\")"
   ]
  },
  {
   "cell_type": "code",
   "execution_count": null,
   "id": "1fc2505a-03df-4953-a0ea-8601a407598d",
   "metadata": {},
   "outputs": [],
   "source": [
    "file_excel = \"data/Données UltiWatt_Coils_2019_2020_2021.xlsx\"\n",
    "\n",
    "df = pd.read_excel(file_excel)\n"
   ]
  },
  {
   "cell_type": "code",
   "execution_count": null,
   "id": "a8930b60-51f1-4baa-b3cb-cf8494a20fd9",
   "metadata": {},
   "outputs": [],
   "source": [
    "col_kept = ['Date heure défourn','reco_metal_bra_og' ,'Long Bra',\n",
    "             'Poids Bra',\n",
    "             'Epais Bra théor.',\n",
    "             'Larg Brame théor.',\n",
    "             'lonbo_ret',\n",
    "             'Epf 1',\n",
    "             'Epf 2',\n",
    "             'Epf 3',\n",
    "             'Epf 4',\n",
    "             'Epf 5',\n",
    "             'Epf 6',\n",
    "             'Epf 7',\n",
    "             'pu_moy_f1_fin',\n",
    "             'pu_moy_f2_fin',\n",
    "             'pu_moy_f3_fin',\n",
    "             'pu_moy_f4_fin',\n",
    "             'pu_moy_f5_fin',\n",
    "             'pu_moy_f6_fin',\n",
    "             'pu_moy_f7_fin',\n",
    "             'Tpf1']\n",
    "\n",
    "\n",
    "                        "
   ]
  },
  {
   "cell_type": "code",
   "execution_count": 48,
   "id": "766413bc-6d97-4363-8d06-ab8db5e89097",
   "metadata": {},
   "outputs": [
    {
     "data": {
      "text/plain": [
       "0    989.729065\n",
       "1    989.480591\n",
       "2    985.722351\n",
       "3    992.792542\n",
       "4    991.517456\n",
       "Name: Tpf1, dtype: float64"
      ]
     },
     "execution_count": 48,
     "metadata": {},
     "output_type": "execute_result"
    }
   ],
   "source": [
    "df['Tpf1']"
   ]
  },
  {
   "cell_type": "code",
   "execution_count": 24,
   "id": "418d3d0e-d1a1-46bc-a8fd-081f713fd500",
   "metadata": {},
   "outputs": [],
   "source": [
    "data[\"METAL\"] = data[\"METAL\"].astype(str)"
   ]
  },
  {
   "cell_type": "code",
   "execution_count": 25,
   "id": "5867ad95-a925-427e-964f-eeb2dc17ebbf",
   "metadata": {},
   "outputs": [],
   "source": [
    "#target = 'conso'\n",
    "#features = ['tconserv', 'width', 'height','length', 'text', 'product']\n",
    "\n",
    "target = 'PU_MOY_F2'\n",
    "features = ['D_EPF_2','D_EPF_1', 'LARG_S_E5', 'METAL']\n"
   ]
  },
  {
   "cell_type": "code",
   "execution_count": 39,
   "id": "977497b4-2a55-4980-a2e3-5bc6ac149af4",
   "metadata": {},
   "outputs": [],
   "source": [
    "data = data.iloc[1:150000]"
   ]
  },
  {
   "cell_type": "markdown",
   "id": "cfe73b0c-771d-428f-bbb8-449e2843a748",
   "metadata": {},
   "source": [
    "# Preprocessor building"
   ]
  },
  {
   "cell_type": "code",
   "execution_count": 26,
   "id": "f2bb1436-0195-4cde-9ae8-4ce742f5baad",
   "metadata": {},
   "outputs": [],
   "source": [
    "def BuildPrepro(data:pd.DataFrame, features:list):\n",
    "\n",
    "    \"\"\"\n",
    "    Function that build the preprocessor of the model pipeline\n",
    "    Taking into account possible categorical variables\n",
    "\n",
    "    \"\"\"\n",
    "\n",
    "    from sklearn.preprocessing import OneHotEncoder\n",
    "    from sklearn.compose import ColumnTransformer\n",
    "    from sklearn.preprocessing import StandardScaler\n",
    "    import numpy as np\n",
    "    \n",
    "    num_feat = [f for f in data[features].columns if data.dtypes[f]==np.float64]\n",
    "    cat_feat = [f for f in data[features].columns if data.dtypes[f]==object]\n",
    "\n",
    "    if len(cat_feat)>0:\n",
    "        num_prepro  = StandardScaler()\n",
    "        cat_prepro  = OneHotEncoder(handle_unknown='ignore')\n",
    "        prepro =  ColumnTransformer([('num',num_prepro,num_feat),('cat',cat_prepro, cat_feat)])\n",
    "    else:\n",
    "        num_prepro = StandardScaler()\n",
    "        prepro =  ColumnTransformer([('num',num_prepro,num_feat)])\n",
    "\n",
    "    return prepro"
   ]
  },
  {
   "cell_type": "code",
   "execution_count": 27,
   "id": "8cf970be-b697-43f4-a6a9-c393a4a05409",
   "metadata": {},
   "outputs": [],
   "source": [
    "prepro = BuildPrepro(data = data, features = features)"
   ]
  },
  {
   "cell_type": "code",
   "execution_count": 14,
   "id": "d7a2bb0c-de42-4ea4-9b27-4b58802b44b3",
   "metadata": {},
   "outputs": [
    {
     "data": {
      "text/html": [
       "<style>#sk-container-id-1 {color: black;background-color: white;}#sk-container-id-1 pre{padding: 0;}#sk-container-id-1 div.sk-toggleable {background-color: white;}#sk-container-id-1 label.sk-toggleable__label {cursor: pointer;display: block;width: 100%;margin-bottom: 0;padding: 0.3em;box-sizing: border-box;text-align: center;}#sk-container-id-1 label.sk-toggleable__label-arrow:before {content: \"▸\";float: left;margin-right: 0.25em;color: #696969;}#sk-container-id-1 label.sk-toggleable__label-arrow:hover:before {color: black;}#sk-container-id-1 div.sk-estimator:hover label.sk-toggleable__label-arrow:before {color: black;}#sk-container-id-1 div.sk-toggleable__content {max-height: 0;max-width: 0;overflow: hidden;text-align: left;background-color: #f0f8ff;}#sk-container-id-1 div.sk-toggleable__content pre {margin: 0.2em;color: black;border-radius: 0.25em;background-color: #f0f8ff;}#sk-container-id-1 input.sk-toggleable__control:checked~div.sk-toggleable__content {max-height: 200px;max-width: 100%;overflow: auto;}#sk-container-id-1 input.sk-toggleable__control:checked~label.sk-toggleable__label-arrow:before {content: \"▾\";}#sk-container-id-1 div.sk-estimator input.sk-toggleable__control:checked~label.sk-toggleable__label {background-color: #d4ebff;}#sk-container-id-1 div.sk-label input.sk-toggleable__control:checked~label.sk-toggleable__label {background-color: #d4ebff;}#sk-container-id-1 input.sk-hidden--visually {border: 0;clip: rect(1px 1px 1px 1px);clip: rect(1px, 1px, 1px, 1px);height: 1px;margin: -1px;overflow: hidden;padding: 0;position: absolute;width: 1px;}#sk-container-id-1 div.sk-estimator {font-family: monospace;background-color: #f0f8ff;border: 1px dotted black;border-radius: 0.25em;box-sizing: border-box;margin-bottom: 0.5em;}#sk-container-id-1 div.sk-estimator:hover {background-color: #d4ebff;}#sk-container-id-1 div.sk-parallel-item::after {content: \"\";width: 100%;border-bottom: 1px solid gray;flex-grow: 1;}#sk-container-id-1 div.sk-label:hover label.sk-toggleable__label {background-color: #d4ebff;}#sk-container-id-1 div.sk-serial::before {content: \"\";position: absolute;border-left: 1px solid gray;box-sizing: border-box;top: 0;bottom: 0;left: 50%;z-index: 0;}#sk-container-id-1 div.sk-serial {display: flex;flex-direction: column;align-items: center;background-color: white;padding-right: 0.2em;padding-left: 0.2em;position: relative;}#sk-container-id-1 div.sk-item {position: relative;z-index: 1;}#sk-container-id-1 div.sk-parallel {display: flex;align-items: stretch;justify-content: center;background-color: white;position: relative;}#sk-container-id-1 div.sk-item::before, #sk-container-id-1 div.sk-parallel-item::before {content: \"\";position: absolute;border-left: 1px solid gray;box-sizing: border-box;top: 0;bottom: 0;left: 50%;z-index: -1;}#sk-container-id-1 div.sk-parallel-item {display: flex;flex-direction: column;z-index: 1;position: relative;background-color: white;}#sk-container-id-1 div.sk-parallel-item:first-child::after {align-self: flex-end;width: 50%;}#sk-container-id-1 div.sk-parallel-item:last-child::after {align-self: flex-start;width: 50%;}#sk-container-id-1 div.sk-parallel-item:only-child::after {width: 0;}#sk-container-id-1 div.sk-dashed-wrapped {border: 1px dashed gray;margin: 0 0.4em 0.5em 0.4em;box-sizing: border-box;padding-bottom: 0.4em;background-color: white;}#sk-container-id-1 div.sk-label label {font-family: monospace;font-weight: bold;display: inline-block;line-height: 1.2em;}#sk-container-id-1 div.sk-label-container {text-align: center;}#sk-container-id-1 div.sk-container {/* jupyter's `normalize.less` sets `[hidden] { display: none; }` but bootstrap.min.css set `[hidden] { display: none !important; }` so we also need the `!important` here to be able to override the default hidden behavior on the sphinx rendered scikit-learn.org. See: https://github.com/scikit-learn/scikit-learn/issues/21755 */display: inline-block !important;position: relative;}#sk-container-id-1 div.sk-text-repr-fallback {display: none;}</style><div id=\"sk-container-id-1\" class=\"sk-top-container\"><div class=\"sk-text-repr-fallback\"><pre>ColumnTransformer(transformers=[(&#x27;num&#x27;, StandardScaler(),\n",
       "                                 [&#x27;tconserv&#x27;, &#x27;width&#x27;, &#x27;height&#x27;, &#x27;length&#x27;,\n",
       "                                  &#x27;text&#x27;]),\n",
       "                                (&#x27;cat&#x27;, OneHotEncoder(handle_unknown=&#x27;ignore&#x27;),\n",
       "                                 [&#x27;product&#x27;])])</pre><b>In a Jupyter environment, please rerun this cell to show the HTML representation or trust the notebook. <br />On GitHub, the HTML representation is unable to render, please try loading this page with nbviewer.org.</b></div><div class=\"sk-container\" hidden><div class=\"sk-item sk-dashed-wrapped\"><div class=\"sk-label-container\"><div class=\"sk-label sk-toggleable\"><input class=\"sk-toggleable__control sk-hidden--visually\" id=\"sk-estimator-id-1\" type=\"checkbox\" ><label for=\"sk-estimator-id-1\" class=\"sk-toggleable__label sk-toggleable__label-arrow\">ColumnTransformer</label><div class=\"sk-toggleable__content\"><pre>ColumnTransformer(transformers=[(&#x27;num&#x27;, StandardScaler(),\n",
       "                                 [&#x27;tconserv&#x27;, &#x27;width&#x27;, &#x27;height&#x27;, &#x27;length&#x27;,\n",
       "                                  &#x27;text&#x27;]),\n",
       "                                (&#x27;cat&#x27;, OneHotEncoder(handle_unknown=&#x27;ignore&#x27;),\n",
       "                                 [&#x27;product&#x27;])])</pre></div></div></div><div class=\"sk-parallel\"><div class=\"sk-parallel-item\"><div class=\"sk-item\"><div class=\"sk-label-container\"><div class=\"sk-label sk-toggleable\"><input class=\"sk-toggleable__control sk-hidden--visually\" id=\"sk-estimator-id-2\" type=\"checkbox\" ><label for=\"sk-estimator-id-2\" class=\"sk-toggleable__label sk-toggleable__label-arrow\">num</label><div class=\"sk-toggleable__content\"><pre>[&#x27;tconserv&#x27;, &#x27;width&#x27;, &#x27;height&#x27;, &#x27;length&#x27;, &#x27;text&#x27;]</pre></div></div></div><div class=\"sk-serial\"><div class=\"sk-item\"><div class=\"sk-estimator sk-toggleable\"><input class=\"sk-toggleable__control sk-hidden--visually\" id=\"sk-estimator-id-3\" type=\"checkbox\" ><label for=\"sk-estimator-id-3\" class=\"sk-toggleable__label sk-toggleable__label-arrow\">StandardScaler</label><div class=\"sk-toggleable__content\"><pre>StandardScaler()</pre></div></div></div></div></div></div><div class=\"sk-parallel-item\"><div class=\"sk-item\"><div class=\"sk-label-container\"><div class=\"sk-label sk-toggleable\"><input class=\"sk-toggleable__control sk-hidden--visually\" id=\"sk-estimator-id-4\" type=\"checkbox\" ><label for=\"sk-estimator-id-4\" class=\"sk-toggleable__label sk-toggleable__label-arrow\">cat</label><div class=\"sk-toggleable__content\"><pre>[&#x27;product&#x27;]</pre></div></div></div><div class=\"sk-serial\"><div class=\"sk-item\"><div class=\"sk-estimator sk-toggleable\"><input class=\"sk-toggleable__control sk-hidden--visually\" id=\"sk-estimator-id-5\" type=\"checkbox\" ><label for=\"sk-estimator-id-5\" class=\"sk-toggleable__label sk-toggleable__label-arrow\">OneHotEncoder</label><div class=\"sk-toggleable__content\"><pre>OneHotEncoder(handle_unknown=&#x27;ignore&#x27;)</pre></div></div></div></div></div></div></div></div></div></div>"
      ],
      "text/plain": [
       "ColumnTransformer(transformers=[('num', StandardScaler(),\n",
       "                                 ['tconserv', 'width', 'height', 'length',\n",
       "                                  'text']),\n",
       "                                ('cat', OneHotEncoder(handle_unknown='ignore'),\n",
       "                                 ['product'])])"
      ]
     },
     "execution_count": 14,
     "metadata": {},
     "output_type": "execute_result"
    }
   ],
   "source": [
    "prepro"
   ]
  },
  {
   "cell_type": "markdown",
   "id": "cb5ff6cb-2e22-4aee-9569-27ab6524be3d",
   "metadata": {},
   "source": [
    "# Modèle building"
   ]
  },
  {
   "cell_type": "code",
   "execution_count": 28,
   "id": "38e65b3e-cb0d-4979-9c57-6d675585dcf6",
   "metadata": {},
   "outputs": [],
   "source": [
    "from lightgbm import LGBMRegressor\n",
    "import lightgbm\n",
    "from sklearn.pipeline import Pipeline\n",
    "\n",
    "model = Pipeline([(\"preprocessor\",prepro),(\"model\", LGBMRegressor())])"
   ]
  },
  {
   "cell_type": "code",
   "execution_count": 20,
   "id": "3c59f929-22f6-4345-b9c4-8a9c8630fd3f",
   "metadata": {},
   "outputs": [
    {
     "data": {
      "text/html": [
       "<style>#sk-container-id-2 {color: black;background-color: white;}#sk-container-id-2 pre{padding: 0;}#sk-container-id-2 div.sk-toggleable {background-color: white;}#sk-container-id-2 label.sk-toggleable__label {cursor: pointer;display: block;width: 100%;margin-bottom: 0;padding: 0.3em;box-sizing: border-box;text-align: center;}#sk-container-id-2 label.sk-toggleable__label-arrow:before {content: \"▸\";float: left;margin-right: 0.25em;color: #696969;}#sk-container-id-2 label.sk-toggleable__label-arrow:hover:before {color: black;}#sk-container-id-2 div.sk-estimator:hover label.sk-toggleable__label-arrow:before {color: black;}#sk-container-id-2 div.sk-toggleable__content {max-height: 0;max-width: 0;overflow: hidden;text-align: left;background-color: #f0f8ff;}#sk-container-id-2 div.sk-toggleable__content pre {margin: 0.2em;color: black;border-radius: 0.25em;background-color: #f0f8ff;}#sk-container-id-2 input.sk-toggleable__control:checked~div.sk-toggleable__content {max-height: 200px;max-width: 100%;overflow: auto;}#sk-container-id-2 input.sk-toggleable__control:checked~label.sk-toggleable__label-arrow:before {content: \"▾\";}#sk-container-id-2 div.sk-estimator input.sk-toggleable__control:checked~label.sk-toggleable__label {background-color: #d4ebff;}#sk-container-id-2 div.sk-label input.sk-toggleable__control:checked~label.sk-toggleable__label {background-color: #d4ebff;}#sk-container-id-2 input.sk-hidden--visually {border: 0;clip: rect(1px 1px 1px 1px);clip: rect(1px, 1px, 1px, 1px);height: 1px;margin: -1px;overflow: hidden;padding: 0;position: absolute;width: 1px;}#sk-container-id-2 div.sk-estimator {font-family: monospace;background-color: #f0f8ff;border: 1px dotted black;border-radius: 0.25em;box-sizing: border-box;margin-bottom: 0.5em;}#sk-container-id-2 div.sk-estimator:hover {background-color: #d4ebff;}#sk-container-id-2 div.sk-parallel-item::after {content: \"\";width: 100%;border-bottom: 1px solid gray;flex-grow: 1;}#sk-container-id-2 div.sk-label:hover label.sk-toggleable__label {background-color: #d4ebff;}#sk-container-id-2 div.sk-serial::before {content: \"\";position: absolute;border-left: 1px solid gray;box-sizing: border-box;top: 0;bottom: 0;left: 50%;z-index: 0;}#sk-container-id-2 div.sk-serial {display: flex;flex-direction: column;align-items: center;background-color: white;padding-right: 0.2em;padding-left: 0.2em;position: relative;}#sk-container-id-2 div.sk-item {position: relative;z-index: 1;}#sk-container-id-2 div.sk-parallel {display: flex;align-items: stretch;justify-content: center;background-color: white;position: relative;}#sk-container-id-2 div.sk-item::before, #sk-container-id-2 div.sk-parallel-item::before {content: \"\";position: absolute;border-left: 1px solid gray;box-sizing: border-box;top: 0;bottom: 0;left: 50%;z-index: -1;}#sk-container-id-2 div.sk-parallel-item {display: flex;flex-direction: column;z-index: 1;position: relative;background-color: white;}#sk-container-id-2 div.sk-parallel-item:first-child::after {align-self: flex-end;width: 50%;}#sk-container-id-2 div.sk-parallel-item:last-child::after {align-self: flex-start;width: 50%;}#sk-container-id-2 div.sk-parallel-item:only-child::after {width: 0;}#sk-container-id-2 div.sk-dashed-wrapped {border: 1px dashed gray;margin: 0 0.4em 0.5em 0.4em;box-sizing: border-box;padding-bottom: 0.4em;background-color: white;}#sk-container-id-2 div.sk-label label {font-family: monospace;font-weight: bold;display: inline-block;line-height: 1.2em;}#sk-container-id-2 div.sk-label-container {text-align: center;}#sk-container-id-2 div.sk-container {/* jupyter's `normalize.less` sets `[hidden] { display: none; }` but bootstrap.min.css set `[hidden] { display: none !important; }` so we also need the `!important` here to be able to override the default hidden behavior on the sphinx rendered scikit-learn.org. See: https://github.com/scikit-learn/scikit-learn/issues/21755 */display: inline-block !important;position: relative;}#sk-container-id-2 div.sk-text-repr-fallback {display: none;}</style><div id=\"sk-container-id-2\" class=\"sk-top-container\"><div class=\"sk-text-repr-fallback\"><pre>Pipeline(steps=[(&#x27;preprocessor&#x27;,\n",
       "                 ColumnTransformer(transformers=[(&#x27;num&#x27;, StandardScaler(),\n",
       "                                                  [&#x27;tconserv&#x27;, &#x27;width&#x27;,\n",
       "                                                   &#x27;height&#x27;, &#x27;length&#x27;,\n",
       "                                                   &#x27;text&#x27;]),\n",
       "                                                 (&#x27;cat&#x27;,\n",
       "                                                  OneHotEncoder(handle_unknown=&#x27;ignore&#x27;),\n",
       "                                                  [&#x27;product&#x27;])])),\n",
       "                (&#x27;model&#x27;, LGBMRegressor())])</pre><b>In a Jupyter environment, please rerun this cell to show the HTML representation or trust the notebook. <br />On GitHub, the HTML representation is unable to render, please try loading this page with nbviewer.org.</b></div><div class=\"sk-container\" hidden><div class=\"sk-item sk-dashed-wrapped\"><div class=\"sk-label-container\"><div class=\"sk-label sk-toggleable\"><input class=\"sk-toggleable__control sk-hidden--visually\" id=\"sk-estimator-id-6\" type=\"checkbox\" ><label for=\"sk-estimator-id-6\" class=\"sk-toggleable__label sk-toggleable__label-arrow\">Pipeline</label><div class=\"sk-toggleable__content\"><pre>Pipeline(steps=[(&#x27;preprocessor&#x27;,\n",
       "                 ColumnTransformer(transformers=[(&#x27;num&#x27;, StandardScaler(),\n",
       "                                                  [&#x27;tconserv&#x27;, &#x27;width&#x27;,\n",
       "                                                   &#x27;height&#x27;, &#x27;length&#x27;,\n",
       "                                                   &#x27;text&#x27;]),\n",
       "                                                 (&#x27;cat&#x27;,\n",
       "                                                  OneHotEncoder(handle_unknown=&#x27;ignore&#x27;),\n",
       "                                                  [&#x27;product&#x27;])])),\n",
       "                (&#x27;model&#x27;, LGBMRegressor())])</pre></div></div></div><div class=\"sk-serial\"><div class=\"sk-item sk-dashed-wrapped\"><div class=\"sk-label-container\"><div class=\"sk-label sk-toggleable\"><input class=\"sk-toggleable__control sk-hidden--visually\" id=\"sk-estimator-id-7\" type=\"checkbox\" ><label for=\"sk-estimator-id-7\" class=\"sk-toggleable__label sk-toggleable__label-arrow\">preprocessor: ColumnTransformer</label><div class=\"sk-toggleable__content\"><pre>ColumnTransformer(transformers=[(&#x27;num&#x27;, StandardScaler(),\n",
       "                                 [&#x27;tconserv&#x27;, &#x27;width&#x27;, &#x27;height&#x27;, &#x27;length&#x27;,\n",
       "                                  &#x27;text&#x27;]),\n",
       "                                (&#x27;cat&#x27;, OneHotEncoder(handle_unknown=&#x27;ignore&#x27;),\n",
       "                                 [&#x27;product&#x27;])])</pre></div></div></div><div class=\"sk-parallel\"><div class=\"sk-parallel-item\"><div class=\"sk-item\"><div class=\"sk-label-container\"><div class=\"sk-label sk-toggleable\"><input class=\"sk-toggleable__control sk-hidden--visually\" id=\"sk-estimator-id-8\" type=\"checkbox\" ><label for=\"sk-estimator-id-8\" class=\"sk-toggleable__label sk-toggleable__label-arrow\">num</label><div class=\"sk-toggleable__content\"><pre>[&#x27;tconserv&#x27;, &#x27;width&#x27;, &#x27;height&#x27;, &#x27;length&#x27;, &#x27;text&#x27;]</pre></div></div></div><div class=\"sk-serial\"><div class=\"sk-item\"><div class=\"sk-estimator sk-toggleable\"><input class=\"sk-toggleable__control sk-hidden--visually\" id=\"sk-estimator-id-9\" type=\"checkbox\" ><label for=\"sk-estimator-id-9\" class=\"sk-toggleable__label sk-toggleable__label-arrow\">StandardScaler</label><div class=\"sk-toggleable__content\"><pre>StandardScaler()</pre></div></div></div></div></div></div><div class=\"sk-parallel-item\"><div class=\"sk-item\"><div class=\"sk-label-container\"><div class=\"sk-label sk-toggleable\"><input class=\"sk-toggleable__control sk-hidden--visually\" id=\"sk-estimator-id-10\" type=\"checkbox\" ><label for=\"sk-estimator-id-10\" class=\"sk-toggleable__label sk-toggleable__label-arrow\">cat</label><div class=\"sk-toggleable__content\"><pre>[&#x27;product&#x27;]</pre></div></div></div><div class=\"sk-serial\"><div class=\"sk-item\"><div class=\"sk-estimator sk-toggleable\"><input class=\"sk-toggleable__control sk-hidden--visually\" id=\"sk-estimator-id-11\" type=\"checkbox\" ><label for=\"sk-estimator-id-11\" class=\"sk-toggleable__label sk-toggleable__label-arrow\">OneHotEncoder</label><div class=\"sk-toggleable__content\"><pre>OneHotEncoder(handle_unknown=&#x27;ignore&#x27;)</pre></div></div></div></div></div></div></div></div><div class=\"sk-item\"><div class=\"sk-estimator sk-toggleable\"><input class=\"sk-toggleable__control sk-hidden--visually\" id=\"sk-estimator-id-12\" type=\"checkbox\" ><label for=\"sk-estimator-id-12\" class=\"sk-toggleable__label sk-toggleable__label-arrow\">LGBMRegressor</label><div class=\"sk-toggleable__content\"><pre>LGBMRegressor()</pre></div></div></div></div></div></div></div>"
      ],
      "text/plain": [
       "Pipeline(steps=[('preprocessor',\n",
       "                 ColumnTransformer(transformers=[('num', StandardScaler(),\n",
       "                                                  ['tconserv', 'width',\n",
       "                                                   'height', 'length',\n",
       "                                                   'text']),\n",
       "                                                 ('cat',\n",
       "                                                  OneHotEncoder(handle_unknown='ignore'),\n",
       "                                                  ['product'])])),\n",
       "                ('model', LGBMRegressor())])"
      ]
     },
     "execution_count": 20,
     "metadata": {},
     "output_type": "execute_result"
    }
   ],
   "source": [
    "model"
   ]
  },
  {
   "cell_type": "code",
   "execution_count": 29,
   "id": "26c02204-3342-490c-b1d7-8b7269b00d3b",
   "metadata": {},
   "outputs": [],
   "source": [
    "def objective(trial,X_trs,Y):\n",
    "\n",
    "    from sklearn.model_selection import train_test_split\n",
    "    from sklearn.metrics import mean_squared_error\n",
    "    import numpy as np\n",
    "    import warnings\n",
    "    warnings.simplefilter('ignore')\n",
    "\n",
    "    train_x, test_x, train_y, test_y = train_test_split(X_trs, Y, test_size=0.2,random_state=42)\n",
    "\n",
    "    callbacks = [lightgbm.early_stopping(100, verbose=0), lightgbm.log_evaluation(period=0)]\n",
    "\n",
    "    model = LGBMRegressor(verbosity = -1)\n",
    "\n",
    "    \n",
    "    param = { \n",
    "        'colsample_bytree': trial.suggest_categorical('colsample_bytree', [0.5,0.6,0.7]),\n",
    "        'learning_rate': trial.suggest_categorical('learning_rate', [0.02,0.04,0.08,0.12]),\n",
    "        'max_depth': trial.suggest_categorical('max_depth', [4,5,6]),\n",
    "        'n_estimators':trial.suggest_int('n_estimators',200,500,10),\n",
    "        'num_leaves' : trial.suggest_int('num_leaves',100,200,20),\n",
    "        'reg_alpha': trial.suggest_float('reg_alpha', 1e-3, 10.0, log=True),\n",
    "        'reg_lambda': trial.suggest_float('reg_lambda', 1e-3, 10.0, log=True),\n",
    "        'subsample': trial.suggest_categorical('subsample', [0.7,0.8,0.9])\n",
    "    }\n",
    "\n",
    "    fixed_hp =   {\n",
    "            'metric': 'rmse', \n",
    "            'random_state': 48,\n",
    "            'verbose': -1\n",
    "        }\n",
    "\n",
    "    for p, pv in fixed_hp.items():\n",
    "        param[p] = pv\n",
    "\n",
    "    model = LGBMRegressor(**param)\n",
    "\n",
    "    model.fit(train_x,train_y,eval_set=[(test_x,test_y)],callbacks=callbacks)\n",
    "\n",
    "    preds_train = model.predict(train_x)  \n",
    "    rmse_train = mean_squared_error(train_y, preds_train,squared=False)\n",
    "    preds_test = model.predict(test_x)\n",
    "    rmse_test = mean_squared_error(test_y, preds_test,squared=False)\n",
    "\n",
    "    alpha_overfit = 0.4\n",
    "    score_final = alpha_overfit*rmse_train + (1-alpha_overfit)*np.abs(rmse_train-rmse_test)\n",
    "    \n",
    "    return score_final\n",
    "\n"
   ]
  },
  {
   "cell_type": "code",
   "execution_count": 30,
   "id": "f97b7eee-46cc-45c7-8c14-e8881b74aa79",
   "metadata": {},
   "outputs": [],
   "source": [
    "def FindHyperParams(data:pd.DataFrame, target:str, features:list):\n",
    "\n",
    "    import optuna\n",
    "    import warnings\n",
    "    from tqdm import TqdmExperimentalWarning\n",
    "\n",
    "    optuna.logging.set_verbosity(optuna.logging.INFO)\n",
    "    warnings.filterwarnings(\"ignore\", category=TqdmExperimentalWarning)\n",
    "\n",
    "\n",
    "    data.dropna(inplace=True)\n",
    "    Y  = data[target]\n",
    "    X  = data[features]\n",
    "\n",
    "    X_trs = prepro.fit_transform(X)\n",
    "    \n",
    "    study = optuna.create_study(direction='minimize')\n",
    "\n",
    "    Ntrial = 100\n",
    "\n",
    "\n",
    "    study.optimize(lambda trial: objective(trial, X_trs, Y), n_trials = Ntrial)\n",
    "    best_params = study.best_trial.params\n",
    "\n",
    "    return best_params\n",
    "\n"
   ]
  },
  {
   "cell_type": "code",
   "execution_count": 40,
   "id": "e9be9839-fb8a-41c2-a31b-8451d7158da1",
   "metadata": {},
   "outputs": [
    {
     "name": "stderr",
     "output_type": "stream",
     "text": [
      "[I 2025-10-06 15:28:11,729] A new study created in memory with name: no-name-74caaefe-2fa2-4024-8b7b-c4bbd205a2d4\n",
      "[I 2025-10-06 15:28:16,558] Trial 0 finished with value: 173681.8316799301 and parameters: {'colsample_bytree': 0.6, 'learning_rate': 0.08, 'max_depth': 6, 'n_estimators': 360, 'num_leaves': 200, 'reg_alpha': 0.06002613093229995, 'reg_lambda': 0.10881650848384285, 'subsample': 0.8}. Best is trial 0 with value: 173681.8316799301.\n",
      "[I 2025-10-06 15:28:20,082] Trial 1 finished with value: 199346.0759753144 and parameters: {'colsample_bytree': 0.7, 'learning_rate': 0.02, 'max_depth': 6, 'n_estimators': 220, 'num_leaves': 160, 'reg_alpha': 2.5338995922171885, 'reg_lambda': 0.2881980682386507, 'subsample': 0.7}. Best is trial 0 with value: 173681.8316799301.\n",
      "[I 2025-10-06 15:28:26,390] Trial 2 finished with value: 176808.23261873447 and parameters: {'colsample_bytree': 0.7, 'learning_rate': 0.04, 'max_depth': 6, 'n_estimators': 470, 'num_leaves': 120, 'reg_alpha': 2.2968361793963004, 'reg_lambda': 0.4114407157172686, 'subsample': 0.8}. Best is trial 0 with value: 173681.8316799301.\n",
      "[I 2025-10-06 15:28:29,608] Trial 3 finished with value: 189483.56491111882 and parameters: {'colsample_bytree': 0.6, 'learning_rate': 0.04, 'max_depth': 5, 'n_estimators': 280, 'num_leaves': 100, 'reg_alpha': 0.07127021438006166, 'reg_lambda': 0.05728087476951135, 'subsample': 0.7}. Best is trial 0 with value: 173681.8316799301.\n",
      "[I 2025-10-06 15:28:32,364] Trial 4 finished with value: 181310.50614348066 and parameters: {'colsample_bytree': 0.6, 'learning_rate': 0.08, 'max_depth': 5, 'n_estimators': 250, 'num_leaves': 120, 'reg_alpha': 7.2562425060110955, 'reg_lambda': 0.12692436540412724, 'subsample': 0.8}. Best is trial 0 with value: 173681.8316799301.\n",
      "[I 2025-10-06 15:28:38,887] Trial 5 finished with value: 172697.25655270144 and parameters: {'colsample_bytree': 0.5, 'learning_rate': 0.08, 'max_depth': 6, 'n_estimators': 470, 'num_leaves': 180, 'reg_alpha': 1.5655453213482733, 'reg_lambda': 0.3701051530375609, 'subsample': 0.8}. Best is trial 5 with value: 172697.25655270144.\n",
      "[I 2025-10-06 15:28:43,299] Trial 6 finished with value: 179868.14868678807 and parameters: {'colsample_bytree': 0.6, 'learning_rate': 0.08, 'max_depth': 4, 'n_estimators': 480, 'num_leaves': 200, 'reg_alpha': 0.4938402336949919, 'reg_lambda': 0.0025876390653550977, 'subsample': 0.7}. Best is trial 5 with value: 172697.25655270144.\n",
      "[I 2025-10-06 15:28:50,248] Trial 7 finished with value: 171206.5926613531 and parameters: {'colsample_bytree': 0.5, 'learning_rate': 0.12, 'max_depth': 6, 'n_estimators': 500, 'num_leaves': 180, 'reg_alpha': 3.1953174615131115, 'reg_lambda': 6.580418174905522, 'subsample': 0.8}. Best is trial 7 with value: 171206.5926613531.\n",
      "[I 2025-10-06 15:28:53,759] Trial 8 finished with value: 175622.6925761752 and parameters: {'colsample_bytree': 0.5, 'learning_rate': 0.12, 'max_depth': 5, 'n_estimators': 320, 'num_leaves': 120, 'reg_alpha': 0.003317725078511616, 'reg_lambda': 3.4876126579144207, 'subsample': 0.9}. Best is trial 7 with value: 171206.5926613531.\n",
      "[I 2025-10-06 15:28:57,512] Trial 9 finished with value: 173105.66057122362 and parameters: {'colsample_bytree': 0.7, 'learning_rate': 0.12, 'max_depth': 6, 'n_estimators': 280, 'num_leaves': 160, 'reg_alpha': 8.73288427590166, 'reg_lambda': 0.003047134817062358, 'subsample': 0.8}. Best is trial 7 with value: 171206.5926613531.\n",
      "[I 2025-10-06 15:29:01,246] Trial 10 finished with value: 178626.36051417168 and parameters: {'colsample_bytree': 0.5, 'learning_rate': 0.12, 'max_depth': 4, 'n_estimators': 400, 'num_leaves': 180, 'reg_alpha': 0.009203989430582685, 'reg_lambda': 6.9512803494847875, 'subsample': 0.9}. Best is trial 7 with value: 171206.5926613531.\n",
      "[I 2025-10-06 15:29:07,704] Trial 11 finished with value: 187222.64117956924 and parameters: {'colsample_bytree': 0.5, 'learning_rate': 0.02, 'max_depth': 6, 'n_estimators': 430, 'num_leaves': 180, 'reg_alpha': 0.28332504207720166, 'reg_lambda': 1.6270657148158858, 'subsample': 0.8}. Best is trial 7 with value: 171206.5926613531.\n",
      "[I 2025-10-06 15:29:14,699] Trial 12 finished with value: 170874.83665886152 and parameters: {'colsample_bytree': 0.5, 'learning_rate': 0.12, 'max_depth': 6, 'n_estimators': 490, 'num_leaves': 180, 'reg_alpha': 0.8579760429425904, 'reg_lambda': 0.018586761805834837, 'subsample': 0.8}. Best is trial 12 with value: 170874.83665886152.\n",
      "[I 2025-10-06 15:29:21,590] Trial 13 finished with value: 171116.66856705985 and parameters: {'colsample_bytree': 0.5, 'learning_rate': 0.12, 'max_depth': 6, 'n_estimators': 500, 'num_leaves': 160, 'reg_alpha': 0.6889054743480176, 'reg_lambda': 0.01352168423314975, 'subsample': 0.8}. Best is trial 12 with value: 170874.83665886152.\n",
      "[I 2025-10-06 15:29:27,218] Trial 14 finished with value: 171709.0554878721 and parameters: {'colsample_bytree': 0.5, 'learning_rate': 0.12, 'max_depth': 6, 'n_estimators': 420, 'num_leaves': 140, 'reg_alpha': 0.38367978315206885, 'reg_lambda': 0.01316725593951415, 'subsample': 0.9}. Best is trial 12 with value: 170874.83665886152.\n",
      "[I 2025-10-06 15:29:30,649] Trial 15 finished with value: 178804.70311760463 and parameters: {'colsample_bytree': 0.5, 'learning_rate': 0.12, 'max_depth': 4, 'n_estimators': 370, 'num_leaves': 140, 'reg_alpha': 0.03199353149237704, 'reg_lambda': 0.014771727379153393, 'subsample': 0.8}. Best is trial 12 with value: 170874.83665886152.\n",
      "[I 2025-10-06 15:29:36,670] Trial 16 finished with value: 171504.13392418608 and parameters: {'colsample_bytree': 0.5, 'learning_rate': 0.12, 'max_depth': 6, 'n_estimators': 450, 'num_leaves': 160, 'reg_alpha': 0.7013797479374771, 'reg_lambda': 0.015170807881641352, 'subsample': 0.8}. Best is trial 12 with value: 170874.83665886152.\n",
      "[I 2025-10-06 15:29:42,075] Trial 17 finished with value: 171931.47196933956 and parameters: {'colsample_bytree': 0.5, 'learning_rate': 0.12, 'max_depth': 6, 'n_estimators': 390, 'num_leaves': 200, 'reg_alpha': 0.15114222875746325, 'reg_lambda': 0.001348710996191448, 'subsample': 0.8}. Best is trial 12 with value: 170874.83665886152.\n",
      "[I 2025-10-06 15:29:45,201] Trial 18 finished with value: 195017.78908949264 and parameters: {'colsample_bytree': 0.5, 'learning_rate': 0.04, 'max_depth': 4, 'n_estimators': 330, 'num_leaves': 140, 'reg_alpha': 0.022334114758802218, 'reg_lambda': 0.037317286652753134, 'subsample': 0.7}. Best is trial 12 with value: 170874.83665886152.\n",
      "[I 2025-10-06 15:29:50,898] Trial 19 finished with value: 190567.38278226438 and parameters: {'colsample_bytree': 0.7, 'learning_rate': 0.02, 'max_depth': 5, 'n_estimators': 500, 'num_leaves': 160, 'reg_alpha': 1.0424906592964294, 'reg_lambda': 0.0067382394650029424, 'subsample': 0.9}. Best is trial 12 with value: 170874.83665886152.\n",
      "[I 2025-10-06 15:29:56,758] Trial 20 finished with value: 171165.41624081333 and parameters: {'colsample_bytree': 0.5, 'learning_rate': 0.12, 'max_depth': 6, 'n_estimators': 430, 'num_leaves': 180, 'reg_alpha': 0.0012614241944289128, 'reg_lambda': 0.03545038783027766, 'subsample': 0.8}. Best is trial 12 with value: 170874.83665886152.\n",
      "[I 2025-10-06 15:30:04,078] Trial 21 finished with value: 171066.9642277868 and parameters: {'colsample_bytree': 0.5, 'learning_rate': 0.12, 'max_depth': 6, 'n_estimators': 450, 'num_leaves': 180, 'reg_alpha': 0.0014130196628798564, 'reg_lambda': 0.034584584227765815, 'subsample': 0.8}. Best is trial 12 with value: 170874.83665886152.\n",
      "[I 2025-10-06 15:30:10,297] Trial 22 finished with value: 171483.65535746902 and parameters: {'colsample_bytree': 0.5, 'learning_rate': 0.12, 'max_depth': 6, 'n_estimators': 450, 'num_leaves': 180, 'reg_alpha': 0.19528561849819429, 'reg_lambda': 0.006301932436479225, 'subsample': 0.8}. Best is trial 12 with value: 170874.83665886152.\n",
      "[I 2025-10-06 15:30:17,402] Trial 23 finished with value: 171084.0717946002 and parameters: {'colsample_bytree': 0.5, 'learning_rate': 0.12, 'max_depth': 6, 'n_estimators': 500, 'num_leaves': 160, 'reg_alpha': 0.0010095125178642725, 'reg_lambda': 0.026716849023690852, 'subsample': 0.8}. Best is trial 12 with value: 170874.83665886152.\n",
      "[I 2025-10-06 15:30:23,695] Trial 24 finished with value: 170979.03379881947 and parameters: {'colsample_bytree': 0.5, 'learning_rate': 0.12, 'max_depth': 6, 'n_estimators': 460, 'num_leaves': 200, 'reg_alpha': 0.0010319219292101566, 'reg_lambda': 0.035145977162297004, 'subsample': 0.8}. Best is trial 12 with value: 170874.83665886152.\n",
      "[I 2025-10-06 15:30:30,159] Trial 25 finished with value: 171070.47119523646 and parameters: {'colsample_bytree': 0.5, 'learning_rate': 0.12, 'max_depth': 6, 'n_estimators': 460, 'num_leaves': 200, 'reg_alpha': 0.002918016254567031, 'reg_lambda': 0.17856192764852166, 'subsample': 0.8}. Best is trial 12 with value: 170874.83665886152.\n",
      "[I 2025-10-06 15:30:35,916] Trial 26 finished with value: 171203.84834503836 and parameters: {'colsample_bytree': 0.5, 'learning_rate': 0.12, 'max_depth': 6, 'n_estimators': 420, 'num_leaves': 200, 'reg_alpha': 0.005655112667260125, 'reg_lambda': 0.06245950968135161, 'subsample': 0.8}. Best is trial 12 with value: 170874.83665886152.\n",
      "[I 2025-10-06 15:30:41,857] Trial 27 finished with value: 188345.8434861782 and parameters: {'colsample_bytree': 0.5, 'learning_rate': 0.02, 'max_depth': 6, 'n_estimators': 400, 'num_leaves': 200, 'reg_alpha': 0.010261103162023208, 'reg_lambda': 0.06710607556507103, 'subsample': 0.8}. Best is trial 12 with value: 170874.83665886152.\n",
      "[I 2025-10-06 15:30:46,742] Trial 28 finished with value: 182660.94533589267 and parameters: {'colsample_bytree': 0.7, 'learning_rate': 0.04, 'max_depth': 5, 'n_estimators': 440, 'num_leaves': 180, 'reg_alpha': 0.002175424284334375, 'reg_lambda': 0.004135080476292451, 'subsample': 0.7}. Best is trial 12 with value: 170874.83665886152.\n",
      "[I 2025-10-06 15:30:49,960] Trial 29 finished with value: 183387.4974892601 and parameters: {'colsample_bytree': 0.6, 'learning_rate': 0.08, 'max_depth': 4, 'n_estimators': 350, 'num_leaves': 200, 'reg_alpha': 0.04556304857815943, 'reg_lambda': 0.001051719874949529, 'subsample': 0.9}. Best is trial 12 with value: 170874.83665886152.\n",
      "[I 2025-10-06 15:30:54,909] Trial 30 finished with value: 171474.24487769738 and parameters: {'colsample_bytree': 0.6, 'learning_rate': 0.12, 'max_depth': 6, 'n_estimators': 370, 'num_leaves': 200, 'reg_alpha': 0.0017000414267390083, 'reg_lambda': 0.9690103898978742, 'subsample': 0.8}. Best is trial 12 with value: 170874.83665886152.\n",
      "[I 2025-10-06 15:31:01,732] Trial 31 finished with value: 171226.13261771333 and parameters: {'colsample_bytree': 0.5, 'learning_rate': 0.12, 'max_depth': 6, 'n_estimators': 470, 'num_leaves': 200, 'reg_alpha': 0.0032613484859280945, 'reg_lambda': 0.11899950168894707, 'subsample': 0.8}. Best is trial 12 with value: 170874.83665886152.\n",
      "[I 2025-10-06 15:31:08,682] Trial 32 finished with value: 170869.65567749523 and parameters: {'colsample_bytree': 0.5, 'learning_rate': 0.12, 'max_depth': 6, 'n_estimators': 480, 'num_leaves': 200, 'reg_alpha': 0.003954802342097919, 'reg_lambda': 0.1716338263801064, 'subsample': 0.8}. Best is trial 32 with value: 170869.65567749523.\n",
      "[I 2025-10-06 15:31:15,174] Trial 33 finished with value: 170916.84218750853 and parameters: {'colsample_bytree': 0.5, 'learning_rate': 0.12, 'max_depth': 6, 'n_estimators': 480, 'num_leaves': 180, 'reg_alpha': 0.007059609941275961, 'reg_lambda': 0.18500548165775413, 'subsample': 0.8}. Best is trial 32 with value: 170869.65567749523.\n",
      "[I 2025-10-06 15:31:21,811] Trial 34 finished with value: 170766.67599597285 and parameters: {'colsample_bytree': 0.7, 'learning_rate': 0.12, 'max_depth': 6, 'n_estimators': 480, 'num_leaves': 180, 'reg_alpha': 0.014485005211464518, 'reg_lambda': 0.27128878965426706, 'subsample': 0.8}. Best is trial 34 with value: 170766.67599597285.\n",
      "[I 2025-10-06 15:31:28,339] Trial 35 finished with value: 176555.9309735929 and parameters: {'colsample_bytree': 0.7, 'learning_rate': 0.04, 'max_depth': 6, 'n_estimators': 480, 'num_leaves': 180, 'reg_alpha': 0.01619473121642669, 'reg_lambda': 0.7640111133156411, 'subsample': 0.7}. Best is trial 34 with value: 170766.67599597285.\n",
      "[I 2025-10-06 15:31:35,215] Trial 36 finished with value: 184217.02598305407 and parameters: {'colsample_bytree': 0.7, 'learning_rate': 0.02, 'max_depth': 6, 'n_estimators': 480, 'num_leaves': 180, 'reg_alpha': 0.07613482015357588, 'reg_lambda': 0.22082885104871539, 'subsample': 0.8}. Best is trial 34 with value: 170766.67599597285.\n",
      "[I 2025-10-06 15:31:40,544] Trial 37 finished with value: 175573.80201776893 and parameters: {'colsample_bytree': 0.7, 'learning_rate': 0.08, 'max_depth': 5, 'n_estimators': 480, 'num_leaves': 100, 'reg_alpha': 0.007774553658748116, 'reg_lambda': 0.5419541004635834, 'subsample': 0.8}. Best is trial 34 with value: 170766.67599597285.\n",
      "[I 2025-10-06 15:31:43,282] Trial 38 finished with value: 175157.99619202365 and parameters: {'colsample_bytree': 0.7, 'learning_rate': 0.12, 'max_depth': 6, 'n_estimators': 200, 'num_leaves': 160, 'reg_alpha': 0.005225822459195411, 'reg_lambda': 0.29561907279738125, 'subsample': 0.8}. Best is trial 34 with value: 170766.67599597285.\n",
      "[I 2025-10-06 15:31:50,014] Trial 39 finished with value: 176435.25009759096 and parameters: {'colsample_bytree': 0.6, 'learning_rate': 0.04, 'max_depth': 6, 'n_estimators': 490, 'num_leaves': 180, 'reg_alpha': 0.017924593627327467, 'reg_lambda': 0.09601460646602919, 'subsample': 0.7}. Best is trial 34 with value: 170766.67599597285.\n",
      "[I 2025-10-06 15:31:53,347] Trial 40 finished with value: 173599.60712421074 and parameters: {'colsample_bytree': 0.7, 'learning_rate': 0.12, 'max_depth': 6, 'n_estimators': 250, 'num_leaves': 200, 'reg_alpha': 0.13381972650818905, 'reg_lambda': 1.7002206249386709, 'subsample': 0.8}. Best is trial 34 with value: 170766.67599597285.\n",
      "[I 2025-10-06 15:31:59,606] Trial 41 finished with value: 171216.45541652365 and parameters: {'colsample_bytree': 0.5, 'learning_rate': 0.12, 'max_depth': 6, 'n_estimators': 460, 'num_leaves': 200, 'reg_alpha': 0.005085201839818041, 'reg_lambda': 0.10814306036062053, 'subsample': 0.8}. Best is trial 34 with value: 170766.67599597285.\n",
      "[I 2025-10-06 15:32:06,507] Trial 42 finished with value: 171014.83530561827 and parameters: {'colsample_bytree': 0.5, 'learning_rate': 0.12, 'max_depth': 6, 'n_estimators': 470, 'num_leaves': 200, 'reg_alpha': 3.491681500113198, 'reg_lambda': 0.19300764203244727, 'subsample': 0.8}. Best is trial 34 with value: 170766.67599597285.\n",
      "[I 2025-10-06 15:32:13,269] Trial 43 finished with value: 170765.2023342591 and parameters: {'colsample_bytree': 0.5, 'learning_rate': 0.12, 'max_depth': 6, 'n_estimators': 490, 'num_leaves': 180, 'reg_alpha': 0.00222456871514375, 'reg_lambda': 0.39693752522701575, 'subsample': 0.8}. Best is trial 43 with value: 170765.2023342591.\n",
      "[I 2025-10-06 15:32:19,963] Trial 44 finished with value: 172349.71245410878 and parameters: {'colsample_bytree': 0.7, 'learning_rate': 0.08, 'max_depth': 6, 'n_estimators': 490, 'num_leaves': 180, 'reg_alpha': 0.011784508080349679, 'reg_lambda': 0.5580423862212522, 'subsample': 0.8}. Best is trial 43 with value: 170765.2023342591.\n",
      "[I 2025-10-06 15:32:25,598] Trial 45 finished with value: 173374.23630652175 and parameters: {'colsample_bytree': 0.6, 'learning_rate': 0.12, 'max_depth': 5, 'n_estimators': 490, 'num_leaves': 180, 'reg_alpha': 0.002335217565411745, 'reg_lambda': 0.3581377908586534, 'subsample': 0.8}. Best is trial 43 with value: 170765.2023342591.\n",
      "[I 2025-10-06 15:32:29,691] Trial 46 finished with value: 177827.24617346606 and parameters: {'colsample_bytree': 0.5, 'learning_rate': 0.12, 'max_depth': 4, 'n_estimators': 440, 'num_leaves': 160, 'reg_alpha': 0.02767617163761032, 'reg_lambda': 1.3786131943734143, 'subsample': 0.9}. Best is trial 43 with value: 170765.2023342591.\n",
      "[I 2025-10-06 15:32:35,303] Trial 47 finished with value: 171624.6718176764 and parameters: {'colsample_bytree': 0.5, 'learning_rate': 0.12, 'max_depth': 6, 'n_estimators': 410, 'num_leaves': 180, 'reg_alpha': 0.0039449556296329525, 'reg_lambda': 0.14907338113762578, 'subsample': 0.8}. Best is trial 43 with value: 170765.2023342591.\n",
      "[I 2025-10-06 15:32:39,432] Trial 48 finished with value: 173076.8200956503 and parameters: {'colsample_bytree': 0.5, 'learning_rate': 0.12, 'max_depth': 6, 'n_estimators': 300, 'num_leaves': 160, 'reg_alpha': 0.006800698157052152, 'reg_lambda': 0.4643703325076187, 'subsample': 0.8}. Best is trial 43 with value: 170765.2023342591.\n",
      "[I 2025-10-06 15:32:46,411] Trial 49 finished with value: 185630.23291838056 and parameters: {'colsample_bytree': 0.5, 'learning_rate': 0.02, 'max_depth': 6, 'n_estimators': 470, 'num_leaves': 160, 'reg_alpha': 0.012104967621366041, 'reg_lambda': 0.28121784247710185, 'subsample': 0.8}. Best is trial 43 with value: 170765.2023342591.\n",
      "[I 2025-10-06 15:32:51,157] Trial 50 finished with value: 176364.52651093388 and parameters: {'colsample_bytree': 0.7, 'learning_rate': 0.12, 'max_depth': 4, 'n_estimators': 500, 'num_leaves': 180, 'reg_alpha': 5.367415692812057, 'reg_lambda': 2.3796966127838814, 'subsample': 0.7}. Best is trial 43 with value: 170765.2023342591.\n",
      "[I 2025-10-06 15:32:57,449] Trial 51 finished with value: 171408.98076164772 and parameters: {'colsample_bytree': 0.5, 'learning_rate': 0.12, 'max_depth': 6, 'n_estimators': 460, 'num_leaves': 200, 'reg_alpha': 0.0021001243238340833, 'reg_lambda': 0.023226099959538293, 'subsample': 0.8}. Best is trial 43 with value: 170765.2023342591.\n",
      "[I 2025-10-06 15:33:04,247] Trial 52 finished with value: 170951.30564069998 and parameters: {'colsample_bytree': 0.5, 'learning_rate': 0.12, 'max_depth': 6, 'n_estimators': 480, 'num_leaves': 180, 'reg_alpha': 0.044133260142538294, 'reg_lambda': 0.07589300424257804, 'subsample': 0.8}. Best is trial 43 with value: 170765.2023342591.\n",
      "[I 2025-10-06 15:33:10,830] Trial 53 finished with value: 170783.01583270074 and parameters: {'colsample_bytree': 0.5, 'learning_rate': 0.12, 'max_depth': 6, 'n_estimators': 480, 'num_leaves': 180, 'reg_alpha': 0.08540300279850482, 'reg_lambda': 0.06377286876640756, 'subsample': 0.8}. Best is trial 43 with value: 170765.2023342591.\n",
      "[I 2025-10-06 15:33:16,742] Trial 54 finished with value: 171245.1593625453 and parameters: {'colsample_bytree': 0.5, 'learning_rate': 0.12, 'max_depth': 6, 'n_estimators': 440, 'num_leaves': 180, 'reg_alpha': 0.09269781170220977, 'reg_lambda': 0.052067447023032995, 'subsample': 0.8}. Best is trial 43 with value: 170765.2023342591.\n",
      "[I 2025-10-06 15:33:23,469] Trial 55 finished with value: 171056.94018668143 and parameters: {'colsample_bytree': 0.5, 'learning_rate': 0.12, 'max_depth': 6, 'n_estimators': 490, 'num_leaves': 180, 'reg_alpha': 0.003936364672043075, 'reg_lambda': 0.24913215336784222, 'subsample': 0.8}. Best is trial 43 with value: 170765.2023342591.\n",
      "[I 2025-10-06 15:33:30,365] Trial 56 finished with value: 170892.24381564907 and parameters: {'colsample_bytree': 0.5, 'learning_rate': 0.12, 'max_depth': 6, 'n_estimators': 500, 'num_leaves': 140, 'reg_alpha': 0.24705866124989567, 'reg_lambda': 0.13612661776145926, 'subsample': 0.9}. Best is trial 43 with value: 170765.2023342591.\n",
      "[I 2025-10-06 15:33:35,959] Trial 57 finished with value: 172676.666715444 and parameters: {'colsample_bytree': 0.5, 'learning_rate': 0.12, 'max_depth': 5, 'n_estimators': 500, 'num_leaves': 140, 'reg_alpha': 0.32950945195697756, 'reg_lambda': 0.04746212898076359, 'subsample': 0.9}. Best is trial 43 with value: 170765.2023342591.\n",
      "[I 2025-10-06 15:33:42,077] Trial 58 finished with value: 172955.4387687004 and parameters: {'colsample_bytree': 0.5, 'learning_rate': 0.08, 'max_depth': 6, 'n_estimators': 450, 'num_leaves': 120, 'reg_alpha': 1.441206196865102, 'reg_lambda': 0.7711773281039354, 'subsample': 0.9}. Best is trial 43 with value: 170765.2023342591.\n",
      "[I 2025-10-06 15:33:47,810] Trial 59 finished with value: 171638.62166217927 and parameters: {'colsample_bytree': 0.5, 'learning_rate': 0.12, 'max_depth': 6, 'n_estimators': 430, 'num_leaves': 140, 'reg_alpha': 0.594268493221573, 'reg_lambda': 0.08737129872167254, 'subsample': 0.9}. Best is trial 43 with value: 170765.2023342591.\n",
      "[I 2025-10-06 15:33:54,567] Trial 60 finished with value: 176471.85124023617 and parameters: {'colsample_bytree': 0.6, 'learning_rate': 0.04, 'max_depth': 6, 'n_estimators': 500, 'num_leaves': 140, 'reg_alpha': 0.2640999855756397, 'reg_lambda': 0.009322024408406734, 'subsample': 0.9}. Best is trial 43 with value: 170765.2023342591.\n",
      "[I 2025-10-06 15:34:01,184] Trial 61 finished with value: 171131.45428744194 and parameters: {'colsample_bytree': 0.5, 'learning_rate': 0.12, 'max_depth': 6, 'n_estimators': 480, 'num_leaves': 160, 'reg_alpha': 1.0081931995519537, 'reg_lambda': 0.1608268782185985, 'subsample': 0.9}. Best is trial 43 with value: 170765.2023342591.\n",
      "[I 2025-10-06 15:34:08,180] Trial 62 finished with value: 171078.40124380196 and parameters: {'colsample_bytree': 0.5, 'learning_rate': 0.12, 'max_depth': 6, 'n_estimators': 490, 'num_leaves': 180, 'reg_alpha': 0.4788152246724907, 'reg_lambda': 0.36136393525455035, 'subsample': 0.8}. Best is trial 43 with value: 170765.2023342591.\n",
      "[I 2025-10-06 15:34:14,407] Trial 63 finished with value: 171327.89005502453 and parameters: {'colsample_bytree': 0.5, 'learning_rate': 0.12, 'max_depth': 6, 'n_estimators': 460, 'num_leaves': 160, 'reg_alpha': 0.1826976052671053, 'reg_lambda': 0.024543940717060286, 'subsample': 0.8}. Best is trial 43 with value: 170765.2023342591.\n",
      "[I 2025-10-06 15:34:20,844] Trial 64 finished with value: 171214.349570776 and parameters: {'colsample_bytree': 0.5, 'learning_rate': 0.12, 'max_depth': 6, 'n_estimators': 470, 'num_leaves': 120, 'reg_alpha': 1.9566794444473947, 'reg_lambda': 0.12470775323070481, 'subsample': 0.8}. Best is trial 43 with value: 170765.2023342591.\n",
      "[I 2025-10-06 15:34:27,349] Trial 65 finished with value: 171121.44734532558 and parameters: {'colsample_bytree': 0.5, 'learning_rate': 0.12, 'max_depth': 6, 'n_estimators': 480, 'num_leaves': 140, 'reg_alpha': 0.05160271300007547, 'reg_lambda': 0.2027658043896864, 'subsample': 0.8}. Best is trial 43 with value: 170765.2023342591.\n",
      "[I 2025-10-06 15:34:31,873] Trial 66 finished with value: 176824.63023009535 and parameters: {'colsample_bytree': 0.5, 'learning_rate': 0.12, 'max_depth': 4, 'n_estimators': 490, 'num_leaves': 180, 'reg_alpha': 0.11484172960276898, 'reg_lambda': 0.13730304625500073, 'subsample': 0.9}. Best is trial 43 with value: 170765.2023342591.\n",
      "[I 2025-10-06 15:34:38,377] Trial 67 finished with value: 186197.93326799502 and parameters: {'colsample_bytree': 0.5, 'learning_rate': 0.02, 'max_depth': 6, 'n_estimators': 450, 'num_leaves': 100, 'reg_alpha': 1.0046711991010142, 'reg_lambda': 0.3001567006174042, 'subsample': 0.8}. Best is trial 43 with value: 170765.2023342591.\n",
      "[I 2025-10-06 15:34:44,650] Trial 68 finished with value: 170608.7728264521 and parameters: {'colsample_bytree': 0.7, 'learning_rate': 0.12, 'max_depth': 6, 'n_estimators': 470, 'num_leaves': 180, 'reg_alpha': 0.03129099332129202, 'reg_lambda': 0.047383223450808816, 'subsample': 0.7}. Best is trial 68 with value: 170608.7728264521.\n",
      "[I 2025-10-06 15:34:51,356] Trial 69 finished with value: 170483.18057482666 and parameters: {'colsample_bytree': 0.7, 'learning_rate': 0.12, 'max_depth': 6, 'n_estimators': 500, 'num_leaves': 140, 'reg_alpha': 0.02071973005927338, 'reg_lambda': 0.061043407234620026, 'subsample': 0.7}. Best is trial 69 with value: 170483.18057482666.\n",
      "[I 2025-10-06 15:34:56,537] Trial 70 finished with value: 172747.87624515258 and parameters: {'colsample_bytree': 0.7, 'learning_rate': 0.12, 'max_depth': 5, 'n_estimators': 470, 'num_leaves': 160, 'reg_alpha': 0.026798482788455553, 'reg_lambda': 0.018711488264386993, 'subsample': 0.7}. Best is trial 69 with value: 170483.18057482666.\n",
      "[I 2025-10-06 15:35:03,996] Trial 71 finished with value: 170466.4556246795 and parameters: {'colsample_bytree': 0.7, 'learning_rate': 0.12, 'max_depth': 6, 'n_estimators': 500, 'num_leaves': 140, 'reg_alpha': 0.037916884844345945, 'reg_lambda': 0.044150935731571445, 'subsample': 0.7}. Best is trial 71 with value: 170466.4556246795.\n",
      "[I 2025-10-06 15:35:10,801] Trial 72 finished with value: 170347.7196830511 and parameters: {'colsample_bytree': 0.7, 'learning_rate': 0.12, 'max_depth': 6, 'n_estimators': 490, 'num_leaves': 120, 'reg_alpha': 0.03832682777793403, 'reg_lambda': 0.04051559011687373, 'subsample': 0.7}. Best is trial 72 with value: 170347.7196830511.\n",
      "[I 2025-10-06 15:35:17,235] Trial 73 finished with value: 170821.84359938157 and parameters: {'colsample_bytree': 0.7, 'learning_rate': 0.12, 'max_depth': 6, 'n_estimators': 470, 'num_leaves': 120, 'reg_alpha': 0.03293983557688945, 'reg_lambda': 0.05519080846598695, 'subsample': 0.7}. Best is trial 72 with value: 170347.7196830511.\n",
      "[I 2025-10-06 15:35:23,368] Trial 74 finished with value: 170890.14628015444 and parameters: {'colsample_bytree': 0.7, 'learning_rate': 0.12, 'max_depth': 6, 'n_estimators': 460, 'num_leaves': 120, 'reg_alpha': 0.035496522260892734, 'reg_lambda': 0.055902048639784305, 'subsample': 0.7}. Best is trial 72 with value: 170347.7196830511.\n",
      "[I 2025-10-06 15:35:30,207] Trial 75 finished with value: 170334.7342007929 and parameters: {'colsample_bytree': 0.7, 'learning_rate': 0.12, 'max_depth': 6, 'n_estimators': 500, 'num_leaves': 120, 'reg_alpha': 0.06632681195944913, 'reg_lambda': 0.040914076161663794, 'subsample': 0.7}. Best is trial 75 with value: 170334.7342007929.\n",
      "[I 2025-10-06 15:35:37,010] Trial 76 finished with value: 170297.11109173528 and parameters: {'colsample_bytree': 0.7, 'learning_rate': 0.12, 'max_depth': 6, 'n_estimators': 500, 'num_leaves': 120, 'reg_alpha': 0.06761900412586036, 'reg_lambda': 0.040438467481004076, 'subsample': 0.7}. Best is trial 76 with value: 170297.11109173528.\n",
      "[I 2025-10-06 15:35:43,659] Trial 77 finished with value: 171769.0673855619 and parameters: {'colsample_bytree': 0.7, 'learning_rate': 0.08, 'max_depth': 6, 'n_estimators': 500, 'num_leaves': 120, 'reg_alpha': 0.0604026900594045, 'reg_lambda': 0.04125558885407075, 'subsample': 0.7}. Best is trial 76 with value: 170297.11109173528.\n",
      "[I 2025-10-06 15:35:50,216] Trial 78 finished with value: 176370.9879777423 and parameters: {'colsample_bytree': 0.7, 'learning_rate': 0.04, 'max_depth': 6, 'n_estimators': 490, 'num_leaves': 100, 'reg_alpha': 0.018142708762310125, 'reg_lambda': 0.02674257113823593, 'subsample': 0.7}. Best is trial 76 with value: 170297.11109173528.\n",
      "[I 2025-10-06 15:35:56,950] Trial 79 finished with value: 170138.75786966196 and parameters: {'colsample_bytree': 0.7, 'learning_rate': 0.12, 'max_depth': 6, 'n_estimators': 500, 'num_leaves': 120, 'reg_alpha': 0.05672868003844105, 'reg_lambda': 0.01001873043863699, 'subsample': 0.7}. Best is trial 79 with value: 170138.75786966196.\n",
      "[I 2025-10-06 15:36:04,392] Trial 80 finished with value: 170138.76429632626 and parameters: {'colsample_bytree': 0.7, 'learning_rate': 0.12, 'max_depth': 6, 'n_estimators': 500, 'num_leaves': 120, 'reg_alpha': 0.0628365153935791, 'reg_lambda': 0.010697898397571383, 'subsample': 0.7}. Best is trial 79 with value: 170138.75786966196.\n",
      "[I 2025-10-06 15:36:11,070] Trial 81 finished with value: 170138.7567782737 and parameters: {'colsample_bytree': 0.7, 'learning_rate': 0.12, 'max_depth': 6, 'n_estimators': 500, 'num_leaves': 120, 'reg_alpha': 0.06151749980914896, 'reg_lambda': 0.00990395138219574, 'subsample': 0.7}. Best is trial 81 with value: 170138.7567782737.\n",
      "[I 2025-10-06 15:36:17,887] Trial 82 finished with value: 170138.74517439812 and parameters: {'colsample_bytree': 0.7, 'learning_rate': 0.12, 'max_depth': 6, 'n_estimators': 500, 'num_leaves': 120, 'reg_alpha': 0.06230713696353929, 'reg_lambda': 0.009534854073191164, 'subsample': 0.7}. Best is trial 82 with value: 170138.74517439812.\n",
      "[I 2025-10-06 15:36:24,604] Trial 83 finished with value: 170138.7606656225 and parameters: {'colsample_bytree': 0.7, 'learning_rate': 0.12, 'max_depth': 6, 'n_estimators': 500, 'num_leaves': 120, 'reg_alpha': 0.06695919560052688, 'reg_lambda': 0.010314331611100498, 'subsample': 0.7}. Best is trial 82 with value: 170138.74517439812.\n",
      "[I 2025-10-06 15:36:31,358] Trial 84 finished with value: 170138.7571349471 and parameters: {'colsample_bytree': 0.7, 'learning_rate': 0.12, 'max_depth': 6, 'n_estimators': 500, 'num_leaves': 120, 'reg_alpha': 0.06547503238075025, 'reg_lambda': 0.009941350556770201, 'subsample': 0.7}. Best is trial 82 with value: 170138.74517439812.\n",
      "[I 2025-10-06 15:36:38,055] Trial 85 finished with value: 170753.8298719335 and parameters: {'colsample_bytree': 0.7, 'learning_rate': 0.12, 'max_depth': 6, 'n_estimators': 500, 'num_leaves': 120, 'reg_alpha': 0.06742380281690281, 'reg_lambda': 0.009340204344957982, 'subsample': 0.7}. Best is trial 82 with value: 170138.74517439812.\n",
      "[I 2025-10-06 15:36:42,675] Trial 86 finished with value: 200568.63814160784 and parameters: {'colsample_bytree': 0.7, 'learning_rate': 0.02, 'max_depth': 4, 'n_estimators': 490, 'num_leaves': 120, 'reg_alpha': 0.12434142808866892, 'reg_lambda': 0.004367632350061423, 'subsample': 0.7}. Best is trial 82 with value: 170138.74517439812.\n",
      "[I 2025-10-06 15:36:47,063] Trial 87 finished with value: 171984.72955666098 and parameters: {'colsample_bytree': 0.7, 'learning_rate': 0.12, 'max_depth': 6, 'n_estimators': 330, 'num_leaves': 120, 'reg_alpha': 0.05280448587483994, 'reg_lambda': 0.010618614306928576, 'subsample': 0.7}. Best is trial 82 with value: 170138.74517439812.\n",
      "[I 2025-10-06 15:36:50,447] Trial 88 finished with value: 173603.15499228908 and parameters: {'colsample_bytree': 0.7, 'learning_rate': 0.12, 'max_depth': 6, 'n_estimators': 250, 'num_leaves': 120, 'reg_alpha': 0.09737709811218283, 'reg_lambda': 0.006707053135670709, 'subsample': 0.7}. Best is trial 82 with value: 170138.74517439812.\n",
      "[I 2025-10-06 15:36:57,103] Trial 89 finished with value: 170415.4855579271 and parameters: {'colsample_bytree': 0.7, 'learning_rate': 0.12, 'max_depth': 6, 'n_estimators': 490, 'num_leaves': 100, 'reg_alpha': 0.07323284946409177, 'reg_lambda': 0.0021724314646512956, 'subsample': 0.7}. Best is trial 82 with value: 170138.74517439812.\n",
      "[I 2025-10-06 15:37:02,838] Trial 90 finished with value: 172828.2856256997 and parameters: {'colsample_bytree': 0.7, 'learning_rate': 0.12, 'max_depth': 5, 'n_estimators': 500, 'num_leaves': 120, 'reg_alpha': 0.15827295317246384, 'reg_lambda': 0.004528450463018131, 'subsample': 0.7}. Best is trial 82 with value: 170138.74517439812.\n",
      "[I 2025-10-06 15:37:09,385] Trial 91 finished with value: 170415.48703808623 and parameters: {'colsample_bytree': 0.7, 'learning_rate': 0.12, 'max_depth': 6, 'n_estimators': 490, 'num_leaves': 120, 'reg_alpha': 0.07680603416991715, 'reg_lambda': 0.0022800364736378395, 'subsample': 0.7}. Best is trial 82 with value: 170138.74517439812.\n",
      "[I 2025-10-06 15:37:16,110] Trial 92 finished with value: 170220.75039706106 and parameters: {'colsample_bytree': 0.7, 'learning_rate': 0.12, 'max_depth': 6, 'n_estimators': 490, 'num_leaves': 100, 'reg_alpha': 0.044733227142393264, 'reg_lambda': 0.012049264446321152, 'subsample': 0.7}. Best is trial 82 with value: 170138.74517439812.\n",
      "[I 2025-10-06 15:37:22,567] Trial 93 finished with value: 170340.02591154753 and parameters: {'colsample_bytree': 0.7, 'learning_rate': 0.12, 'max_depth': 6, 'n_estimators': 480, 'num_leaves': 100, 'reg_alpha': 0.045019402467173175, 'reg_lambda': 0.013129321285637005, 'subsample': 0.7}. Best is trial 82 with value: 170138.74517439812.\n",
      "[I 2025-10-06 15:37:29,351] Trial 94 finished with value: 170156.23942464136 and parameters: {'colsample_bytree': 0.7, 'learning_rate': 0.12, 'max_depth': 6, 'n_estimators': 500, 'num_leaves': 100, 'reg_alpha': 0.05999149426819696, 'reg_lambda': 0.012181355706364513, 'subsample': 0.7}. Best is trial 82 with value: 170138.74517439812.\n",
      "[I 2025-10-06 15:37:36,223] Trial 95 finished with value: 170519.77140151052 and parameters: {'colsample_bytree': 0.7, 'learning_rate': 0.12, 'max_depth': 6, 'n_estimators': 500, 'num_leaves': 100, 'reg_alpha': 0.05811589587877041, 'reg_lambda': 0.005499680202458215, 'subsample': 0.7}. Best is trial 82 with value: 170138.74517439812.\n",
      "[I 2025-10-06 15:37:43,085] Trial 96 finished with value: 170274.16797802658 and parameters: {'colsample_bytree': 0.7, 'learning_rate': 0.12, 'max_depth': 6, 'n_estimators': 500, 'num_leaves': 100, 'reg_alpha': 0.10682741242007429, 'reg_lambda': 0.01722288010691225, 'subsample': 0.7}. Best is trial 82 with value: 170138.74517439812.\n",
      "[I 2025-10-06 15:37:49,666] Trial 97 finished with value: 171728.32196578334 and parameters: {'colsample_bytree': 0.7, 'learning_rate': 0.08, 'max_depth': 6, 'n_estimators': 490, 'num_leaves': 100, 'reg_alpha': 0.10354589347976427, 'reg_lambda': 0.018231894399011406, 'subsample': 0.7}. Best is trial 82 with value: 170138.74517439812.\n",
      "[I 2025-10-06 15:37:56,137] Trial 98 finished with value: 176419.27928185216 and parameters: {'colsample_bytree': 0.7, 'learning_rate': 0.04, 'max_depth': 6, 'n_estimators': 480, 'num_leaves': 100, 'reg_alpha': 0.1472107360357338, 'reg_lambda': 0.008274352839093314, 'subsample': 0.7}. Best is trial 82 with value: 170138.74517439812.\n",
      "[I 2025-10-06 15:38:01,236] Trial 99 finished with value: 171223.93317661257 and parameters: {'colsample_bytree': 0.7, 'learning_rate': 0.12, 'max_depth': 6, 'n_estimators': 380, 'num_leaves': 100, 'reg_alpha': 0.08497714173754456, 'reg_lambda': 0.01192141562397331, 'subsample': 0.7}. Best is trial 82 with value: 170138.74517439812.\n"
     ]
    }
   ],
   "source": [
    "best_params = FindHyperParams(data=data,target=target,features=features)"
   ]
  },
  {
   "cell_type": "code",
   "execution_count": 41,
   "id": "531456dd-eb54-4d8b-aa6c-1c0c658a556f",
   "metadata": {},
   "outputs": [
    {
     "data": {
      "text/plain": [
       "{'colsample_bytree': 0.7,\n",
       " 'learning_rate': 0.12,\n",
       " 'max_depth': 6,\n",
       " 'n_estimators': 500,\n",
       " 'num_leaves': 120,\n",
       " 'reg_alpha': 0.06230713696353929,\n",
       " 'reg_lambda': 0.009534854073191164,\n",
       " 'subsample': 0.7}"
      ]
     },
     "execution_count": 41,
     "metadata": {},
     "output_type": "execute_result"
    }
   ],
   "source": [
    "best_params"
   ]
  },
  {
   "cell_type": "code",
   "execution_count": 42,
   "id": "87ec5ea4-bb97-4574-a630-95bcf9ce738b",
   "metadata": {},
   "outputs": [],
   "source": [
    "from sklearn.pipeline import Pipeline\n",
    "from sklearn.metrics import r2_score\n",
    "from sklearn.model_selection import train_test_split\n",
    "\n",
    "ml_pipeline = Pipeline([(\"preprocessor\",prepro),(\"model\", LGBMRegressor(**best_params))])\n",
    "Y  = data[target]\n",
    "X  = data[features]\n",
    "train_x, test_x, train_y, test_y = train_test_split(X, Y, test_size=0.2,random_state=42)\n",
    "\n",
    "ml_pipeline.fit(train_x,train_y)\n",
    "\n",
    "preds_train = ml_pipeline.predict(train_x)  \n",
    "preds_test  = ml_pipeline.predict(test_x)  \n",
    "r2_train = r2_score(train_y,preds_train)\n"
   ]
  },
  {
   "cell_type": "code",
   "execution_count": 44,
   "id": "d213841c-34ab-4278-b20e-fa7e41919d2b",
   "metadata": {},
   "outputs": [],
   "source": [
    "r2_test = r2_score(test_y,preds_test)"
   ]
  },
  {
   "cell_type": "code",
   "execution_count": 45,
   "id": "7102eb00-17b2-443c-81fb-81a5870479bd",
   "metadata": {},
   "outputs": [
    {
     "data": {
      "text/plain": [
       "0.9146337030596321"
      ]
     },
     "execution_count": 45,
     "metadata": {},
     "output_type": "execute_result"
    }
   ],
   "source": [
    "r2_test"
   ]
  }
 ],
 "metadata": {
  "kernelspec": {
   "display_name": "Python (base)",
   "language": "python",
   "name": "base"
  },
  "language_info": {
   "codemirror_mode": {
    "name": "ipython",
    "version": 3
   },
   "file_extension": ".py",
   "mimetype": "text/x-python",
   "name": "python",
   "nbconvert_exporter": "python",
   "pygments_lexer": "ipython3",
   "version": "3.11.7"
  }
 },
 "nbformat": 4,
 "nbformat_minor": 5
}
